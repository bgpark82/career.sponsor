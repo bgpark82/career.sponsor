{
 "cells": [
  {
   "cell_type": "code",
   "id": "49c7551d-7e16-4127-aec8-1dd6ef96fa5d",
   "metadata": {
    "jupyter": {
     "is_executing": true
    }
   },
   "source": [
    "import org.apache.spark.sql.SparkSession\n",
    "\n",
    "val spark = SparkSession.builder.appName(\"SparkScalaNotebook\").getOrCreate()\n",
    "val data = Seq((1, \"Alice\"), (2, \"Bob\"), (3, \"Cathy\"))\n",
    "val df = spark.createDataFrame(data).toDF(\"id\", \"name\")\n",
    "\n",
    "df.show()"
   ],
   "outputs": [],
   "execution_count": null
  },
  {
   "cell_type": "code",
   "execution_count": null,
   "id": "18ec962e-a06a-4bd2-b253-7bfe94c623e3",
   "metadata": {},
   "outputs": [],
   "source": []
  }
 ],
 "metadata": {
  "kernelspec": {
   "display_name": "Apache Toree - Scala",
   "language": "scala",
   "name": "apache_toree_scala"
  },
  "language_info": {
   "codemirror_mode": "text/x-scala",
   "file_extension": ".scala",
   "mimetype": "text/x-scala",
   "name": "scala",
   "pygments_lexer": "scala",
   "version": "2.12.15"
  }
 },
 "nbformat": 4,
 "nbformat_minor": 5
}
